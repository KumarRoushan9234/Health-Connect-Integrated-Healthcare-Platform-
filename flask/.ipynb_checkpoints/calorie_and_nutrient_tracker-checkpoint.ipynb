{
 "cells": [
  {
   "cell_type": "code",
   "execution_count": 1,
   "id": "cb5ac6c6-91cb-4892-8f24-164e8deb4127",
   "metadata": {},
   "outputs": [],
   "source": [
    "import pandas as pd\n",
    "import numpy as np\n",
    "import matplotlib.pyplot as plt\n",
    "import seaborn as sns\n",
    "from fuzzywuzzy import process"
   ]
  },
  {
   "cell_type": "code",
   "execution_count": 3,
   "id": "9d3e5df9-ed58-4914-8b41-70d96d3b98a3",
   "metadata": {},
   "outputs": [
    {
     "name": "stdout",
     "output_type": "stream",
     "text": [
      "                       Food Calories Protein(g)  Carbs(g)  Fat(g)   Category  \\\n",
      "0                     Apple       95        0.5      25.0     0.3      Fruit   \n",
      "1  Chicken Breast (grilled)      165         31       0.0     3.6       Meat   \n",
      "2                  Broccoli       55        3.7      11.2     0.6  Vegetable   \n",
      "3         Whole Wheat Bread       69        2.2      12.4     1.0      Grain   \n",
      "4            Salmon (baked)      206         22       0.0    13.0       Fish   \n",
      "\n",
      "   Type_of_Diet       Disease_Help  \n",
      "0    Vegetarian       Heart Health  \n",
      "1  High Protein  Weight Management  \n",
      "2    Vegetarian     Immune Support  \n",
      "3    Vegetarian       Heart Health  \n",
      "4  High Protein       Brain Health  \n"
     ]
    }
   ],
   "source": [
    "df=pd.read_csv(\"new_food_nutrients.csv\")\n",
    "print(df.head())"
   ]
  },
  {
   "cell_type": "code",
   "execution_count": null,
   "id": "4f6fd908-d381-48bc-bd39-5416c4cfda79",
   "metadata": {},
   "outputs": [],
   "source": [
    "df.drop_duplicates(inplace=True)\n",
    "df.reset_index(drop=True, inplace=True)"
   ]
  },
  {
   "cell_type": "code",
   "execution_count": null,
   "id": "6e893dd3-dad6-457d-a2c1-d423ed644e03",
   "metadata": {},
   "outputs": [],
   "source": [
    "uc2 = df['Category'].unique()\n",
    "print(uc2)"
   ]
  },
  {
   "cell_type": "code",
   "execution_count": null,
   "id": "b481f1f0-e053-4349-86f8-cb42fcf2dee3",
   "metadata": {},
   "outputs": [],
   "source": [
    "uc1 = df['Type_of_Diet'].unique()\n",
    "print(uc1)"
   ]
  },
  {
   "cell_type": "code",
   "execution_count": null,
   "id": "e7d51486-85e8-4bac-afd6-57da3fd43e56",
   "metadata": {},
   "outputs": [],
   "source": [
    "uc3 = df['Disease_Help'].unique()\n",
    "print(uc3)"
   ]
  },
  {
   "cell_type": "code",
   "execution_count": null,
   "id": "58283c34-888d-43c9-9286-c3966be993d0",
   "metadata": {},
   "outputs": [],
   "source": [
    "df=df.loc[~df['Category'].isin(['1.3', '10'])]"
   ]
  },
  {
   "cell_type": "code",
   "execution_count": null,
   "id": "f7809775-8af9-4228-8285-985c146cb28e",
   "metadata": {},
   "outputs": [],
   "source": [
    "df1 = df.copy()"
   ]
  },
  {
   "cell_type": "code",
   "execution_count": null,
   "id": "14603022-d0d3-4712-8418-4941777f03db",
   "metadata": {},
   "outputs": [],
   "source": [
    "# one hot encoding\n",
    "col=['Category','Type_of_Diet','Disease_Help']\n",
    "dum_1 = pd.get_dummies(df,columns=col, prefix=col)\n",
    "df1 = pd.concat([df, dum_1], axis=1)\n",
    "\n",
    "# dum_1 = pd.get_dummies(df['Category'])\n",
    "# df1 = pd.concat([df, dum_1], axis=1)\n",
    "\n",
    "# dum_2 = pd.get_dummies(df['Type_of_Diet'])\n",
    "# df1 = pd.concat([df, dum_2], axis=1)\n",
    "\n",
    "# dum_3 = pd.get_dummies(df['Disease_Help'])\n",
    "# df1 = pd.concat([df, dum_3], axis=1)\n",
    "\n",
    "df1 = df1.replace({True: 1, False: 0})\n",
    "df1.head()"
   ]
  },
  {
   "cell_type": "code",
   "execution_count": null,
   "id": "cfe21734-79f5-4dbc-953b-d5a9db566bfc",
   "metadata": {},
   "outputs": [],
   "source": [
    "category_dummies = pd.get_dummies(df['Type_of_Diet'], prefix='')\n",
    "df1 = pd.concat([df, category_dummies], axis=1)\n",
    "df1 = df1.replace({True: 1, False: 0})\n",
    "df1.head()"
   ]
  },
  {
   "cell_type": "code",
   "execution_count": null,
   "id": "3a576aba-2f7c-4565-8677-8e78a92aded4",
   "metadata": {},
   "outputs": [],
   "source": []
  },
  {
   "cell_type": "code",
   "execution_count": null,
   "id": "204f01cb-719a-46d0-9612-c22bedf6390e",
   "metadata": {
    "scrolled": true
   },
   "outputs": [],
   "source": [
    "category_dummies = pd.get_dummies(df['Disease_Help'], prefix='')\n",
    "df1 = pd.concat([df, category_dummies], axis=1)\n",
    "df1 = df1.replace({True: 1, False: 0})\n",
    "df1.head()"
   ]
  },
  {
   "cell_type": "code",
   "execution_count": null,
   "id": "81afa03f-be34-4625-b5d8-a0cf44db5707",
   "metadata": {},
   "outputs": [],
   "source": []
  },
  {
   "cell_type": "code",
   "execution_count": null,
   "id": "bf2157c8-544d-42ec-aec7-9fc06ca122d9",
   "metadata": {},
   "outputs": [],
   "source": [
    "def match_food(x,df,serv):\n",
    "    match_food, similar_score = process.extractOne(x.capitalize(), df['Food'].str.capitalize().values)\n",
    "    print(match_food, similar_score)\n",
    "    try:\n",
    "        if similar_score>=80:\n",
    "            row = df.loc[df['Food'].str.capitalize() == match_food.capitalize()]\n",
    "            # calorie = df.loc[df['Food'].str.capitalize() == match_food, 'Calories'].values[0]\n",
    "            # protein = df.loc[df['Food'].str.capitalize() == match_food, 'Protein(g)'].values[0]\n",
    "            # carbs = df.loc[df['Food'].str.capitalize() == match_food, 'Carbs(g)'].values[0]\n",
    "            # fat = df.loc[df['Food'].str.capitalize() == match_food, 'Fat(g)'].values[0]\n",
    "            calorie = float(row['Calories'].values[0])\n",
    "            protein = float(row['Protein(g)'].values[0])\n",
    "            carbs = float(row['Carbs(g)'].values[0])\n",
    "            fat = float(row['Fat(g)'].values[0])\n",
    "        # total_cal = int(calorie)*serv\n",
    "        # total_pro = int(protein)*serv\n",
    "        # total_carb = int(carbs)*serv\n",
    "        # total_fat = int(fat)*serv\n",
    "        # print(total_cal,int(calorie))\n",
    "        # print(total_pro,int(protein))\n",
    "        # print(total_carb,int(carbs))\n",
    "        # print(total_fat,int(fat))\n",
    "        # return int(calorie),total_cal,match_food\n",
    "\n",
    "        print(calorie*serv)\n",
    "        print(protein*serv)\n",
    "        print(carbs*serv)\n",
    "        print(fat*serv)\n",
    "        return calorie*serv,protein*serv,carbs*serv,fat*serv,match_food\n",
    "    except:\n",
    "        print(\"enter valid\")\n",
    "    \n"
   ]
  },
  {
   "cell_type": "code",
   "execution_count": null,
   "id": "e924519a-c933-44d3-8dd1-6ac6e08df197",
   "metadata": {},
   "outputs": [],
   "source": [
    "total_cal=0.0\n",
    "total_pro=0.0\n",
    "total_carb=0.0\n",
    "total_fat=0.0\n",
    "dict = {}\n",
    "for i in range(3):\n",
    "    x=input(\"Enter Food: \")\n",
    "    serv = int(input(\"No.of Serving: \"))\n",
    "    # cal1,cal2,fd = match_food(x,df,serv)\n",
    "    # cal+=cal1\n",
    "    # total_cal+=cal2\n",
    "    # food=fd\n",
    "    # dict.update({fd:[cal,total_cal]})\n",
    "\n",
    "    cal,pro,carb,fat,match = match_food(x,df,serv)\n",
    "    if cal is not None:\n",
    "        total_cal+=cal\n",
    "        total_pro+=pro\n",
    "        total_carb+=carb\n",
    "        total_fat+=fat\n",
    "        dict[match]={\"Calorie\":cal,\"Protein\":pro,\"Carbs\":carb,\"Fat\":fat}\n",
    "    else:\n",
    "        print(\"Enter Again\")\n",
    "print(\"Total Calorie: \",total_cal)\n",
    "print(\"Total Protien: \",total_pro)\n",
    "print(\"Total Carbs: \",total_carb)\n",
    "print(\"Total Fat: \",total_fat)\n",
    "print(dict)"
   ]
  },
  {
   "cell_type": "code",
   "execution_count": null,
   "id": "67b57112-3b91-4367-8400-971bde2cfe0d",
   "metadata": {},
   "outputs": [],
   "source": []
  },
  {
   "cell_type": "code",
   "execution_count": null,
   "id": "cc1ea7e7-10a4-442d-9d8c-8d2718e4a4b6",
   "metadata": {},
   "outputs": [],
   "source": []
  },
  {
   "cell_type": "code",
   "execution_count": null,
   "id": "927c4507-3f4d-425e-ba24-f1df3f96a957",
   "metadata": {},
   "outputs": [],
   "source": []
  }
 ],
 "metadata": {
  "kernelspec": {
   "display_name": "Python 3 (ipykernel)",
   "language": "python",
   "name": "python3"
  },
  "language_info": {
   "codemirror_mode": {
    "name": "ipython",
    "version": 3
   },
   "file_extension": ".py",
   "mimetype": "text/x-python",
   "name": "python",
   "nbconvert_exporter": "python",
   "pygments_lexer": "ipython3",
   "version": "3.10.0"
  },
  "widgets": {
   "application/vnd.jupyter.widget-state+json": {
    "state": {},
    "version_major": 2,
    "version_minor": 0
   }
  }
 },
 "nbformat": 4,
 "nbformat_minor": 5
}
